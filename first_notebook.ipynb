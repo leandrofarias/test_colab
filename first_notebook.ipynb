{
  "nbformat": 4,
  "nbformat_minor": 0,
  "metadata": {
    "colab": {
      "name": "first_notebook.ipynb",
      "provenance": [],
      "collapsed_sections": [],
      "authorship_tag": "ABX9TyPjSLgcZCJw6YxgmsOugUX5",
      "include_colab_link": true
    },
    "kernelspec": {
      "name": "python3",
      "display_name": "Python 3"
    }
  },
  "cells": [
    {
      "cell_type": "markdown",
      "metadata": {
        "id": "view-in-github",
        "colab_type": "text"
      },
      "source": [
        "<a href=\"https://colab.research.google.com/github/leandrofarias/test_colab/blob/master/first_notebook.ipynb\" target=\"_parent\"><img src=\"https://colab.research.google.com/assets/colab-badge.svg\" alt=\"Open In Colab\"/></a>"
      ]
    },
    {
      "cell_type": "code",
      "metadata": {
        "id": "bCXgP1Ljdea1",
        "colab_type": "code",
        "colab": {
          "base_uri": "https://localhost:8080/",
          "height": 34
        },
        "outputId": "c212fd75-3216-43b5-d372-5cbcc042267e"
      },
      "source": [
        "import time\n",
        "print(time.ctime())"
      ],
      "execution_count": 4,
      "outputs": [
        {
          "output_type": "stream",
          "text": [
            "Sat Sep 19 13:41:21 2020\n"
          ],
          "name": "stdout"
        }
      ]
    },
    {
      "cell_type": "code",
      "metadata": {
        "id": "jWeNC06CmHqT",
        "colab_type": "code",
        "colab": {
          "base_uri": "https://localhost:8080/",
          "height": 34
        },
        "outputId": "551dc4bf-d4b5-43e2-9c0e-314b997b183e"
      },
      "source": [
        "time.sleep(5)\n",
        "print(time.ctime())"
      ],
      "execution_count": 5,
      "outputs": [
        {
          "output_type": "stream",
          "text": [
            "Sat Sep 19 13:41:26 2020\n"
          ],
          "name": "stdout"
        }
      ]
    },
    {
      "cell_type": "markdown",
      "metadata": {
        "id": "qIw46ytinJvk",
        "colab_type": "text"
      },
      "source": [
        "**first**\n",
        "\n",
        "*second*\n",
        "\n",
        "~third~\n",
        "\n",
        "$\\sqrt{3x - 1} + (1 + x)^2$\n",
        "\n",
        "$e^x=\\sum_{i=0}^\\infty\\frac{1}{i!}x^i$"
      ]
    },
    {
      "cell_type": "code",
      "metadata": {
        "id": "r5CLJO6Zvn-I",
        "colab_type": "code",
        "colab": {
          "base_uri": "https://localhost:8080/",
          "height": 34
        },
        "outputId": "7b2c155a-2f2e-4eb6-ba6c-5a8f3806be1e"
      },
      "source": [
        "print('Test at GitHub')"
      ],
      "execution_count": 6,
      "outputs": [
        {
          "output_type": "stream",
          "text": [
            "Test at GitHub\n"
          ],
          "name": "stdout"
        }
      ]
    }
  ]
}