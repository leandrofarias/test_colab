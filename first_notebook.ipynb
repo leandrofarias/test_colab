{
  "nbformat": 4,
  "nbformat_minor": 0,
  "metadata": {
    "colab": {
      "name": "first_notebook.ipynb",
      "provenance": [],
      "collapsed_sections": [],
      "toc_visible": true,
      "mount_file_id": "1buBppgu4IkqpJxiW5OzyiJrpwtSSwc4l",
      "authorship_tag": "ABX9TyO5Rz4cWAfTycGbA0Szfcq+",
      "include_colab_link": true
    },
    "kernelspec": {
      "name": "python3",
      "display_name": "Python 3"
    }
  },
  "cells": [
    {
      "cell_type": "markdown",
      "metadata": {
        "id": "view-in-github",
        "colab_type": "text"
      },
      "source": [
        "<a href=\"https://colab.research.google.com/github/leandrofarias/test_colab/blob/master/first_notebook.ipynb\" target=\"_parent\"><img src=\"https://colab.research.google.com/assets/colab-badge.svg\" alt=\"Open In Colab\"/></a>"
      ]
    },
    {
      "cell_type": "code",
      "metadata": {
        "id": "bCXgP1Ljdea1",
        "colab_type": "code",
        "colab": {
          "base_uri": "https://localhost:8080/",
          "height": 34
        },
        "outputId": "c212fd75-3216-43b5-d372-5cbcc042267e"
      },
      "source": [
        "import time\n",
        "print(time.ctime())"
      ],
      "execution_count": 4,
      "outputs": [
        {
          "output_type": "stream",
          "text": [
            "Sat Sep 19 13:41:21 2020\n"
          ],
          "name": "stdout"
        }
      ]
    },
    {
      "cell_type": "code",
      "metadata": {
        "id": "jWeNC06CmHqT",
        "colab_type": "code",
        "colab": {
          "base_uri": "https://localhost:8080/",
          "height": 34
        },
        "outputId": "551dc4bf-d4b5-43e2-9c0e-314b997b183e"
      },
      "source": [
        "time.sleep(5)\n",
        "print(time.ctime())"
      ],
      "execution_count": 5,
      "outputs": [
        {
          "output_type": "stream",
          "text": [
            "Sat Sep 19 13:41:26 2020\n"
          ],
          "name": "stdout"
        }
      ]
    },
    {
      "cell_type": "markdown",
      "metadata": {
        "id": "qIw46ytinJvk",
        "colab_type": "text"
      },
      "source": [
        "**first**\n",
        "\n",
        "*second*\n",
        "\n",
        "~third~\n",
        "\n",
        "$\\sqrt{3x - 1} + (1 + x)^2$\n",
        "\n",
        "$e^x=\\sum_{i=0}^\\infty\\frac{1}{i!}x^i$"
      ]
    },
    {
      "cell_type": "code",
      "metadata": {
        "id": "r5CLJO6Zvn-I",
        "colab_type": "code",
        "colab": {
          "base_uri": "https://localhost:8080/",
          "height": 34
        },
        "outputId": "7b2c155a-2f2e-4eb6-ba6c-5a8f3806be1e"
      },
      "source": [
        "print('Test at GitHub')"
      ],
      "execution_count": 6,
      "outputs": [
        {
          "output_type": "stream",
          "text": [
            "Test at GitHub\n"
          ],
          "name": "stdout"
        }
      ]
    },
    {
      "cell_type": "code",
      "metadata": {
        "id": "PdOhSXyywBoc",
        "colab_type": "code",
        "colab": {
          "base_uri": "https://localhost:8080/",
          "height": 34
        },
        "outputId": "7769d2aa-cef5-48ff-9b02-58045e38d7b5"
      },
      "source": [
        "a = 2\n",
        "b = 4\n",
        "print(a + b)"
      ],
      "execution_count": 7,
      "outputs": [
        {
          "output_type": "stream",
          "text": [
            "6\n"
          ],
          "name": "stdout"
        }
      ]
    },
    {
      "cell_type": "code",
      "metadata": {
        "id": "5FxjGL3Bylbg",
        "colab_type": "code",
        "colab": {
          "base_uri": "https://localhost:8080/",
          "height": 241
        },
        "outputId": "95602795-2c80-4b29-f1e1-8d1bef239af4"
      },
      "source": [
        "!wget http://tiagodemelo.info/datasets/dados-curso.csv"
      ],
      "execution_count": 9,
      "outputs": [
        {
          "output_type": "stream",
          "text": [
            "--2020-09-19 14:37:40--  http://tiagodemelo.info/datasets/dados-curso.csv\n",
            "Resolving tiagodemelo.info (tiagodemelo.info)... 108.167.188.189\n",
            "Connecting to tiagodemelo.info (tiagodemelo.info)|108.167.188.189|:80... connected.\n",
            "HTTP request sent, awaiting response... 200 OK\n",
            "Length: 102696 (100K) [text/csv]\n",
            "Saving to: ‘dados-curso.csv.1’\n",
            "\n",
            "dados-curso.csv.1   100%[===================>] 100.29K   205KB/s    in 0.5s    \n",
            "\n",
            "2020-09-19 14:37:42 (205 KB/s) - ‘dados-curso.csv.1’ saved [102696/102696]\n",
            "\n",
            "dados-curso.csv  dados-curso.csv.1  sample_data\n"
          ],
          "name": "stdout"
        }
      ]
    },
    {
      "cell_type": "code",
      "metadata": {
        "id": "yAfDaUu2zMre",
        "colab_type": "code",
        "colab": {
          "base_uri": "https://localhost:8080/",
          "height": 34
        },
        "outputId": "6192fb76-eb0e-4895-a623-46c77c55bc12"
      },
      "source": [
        "!pwd"
      ],
      "execution_count": 10,
      "outputs": [
        {
          "output_type": "stream",
          "text": [
            "/content\n"
          ],
          "name": "stdout"
        }
      ]
    },
    {
      "cell_type": "code",
      "metadata": {
        "id": "bUqHo29f07H6",
        "colab_type": "code",
        "colab": {
          "base_uri": "https://localhost:8080/",
          "height": 394
        },
        "outputId": "ab240f93-c8da-4e21-f729-7b3590ffddde"
      },
      "source": [
        "import pandas as pd\n",
        "data = pd.read_csv('/content/dados-curso.csv')\n",
        "data.head()"
      ],
      "execution_count": 17,
      "outputs": [
        {
          "output_type": "execute_result",
          "data": {
            "text/html": [
              "<div>\n",
              "<style scoped>\n",
              "    .dataframe tbody tr th:only-of-type {\n",
              "        vertical-align: middle;\n",
              "    }\n",
              "\n",
              "    .dataframe tbody tr th {\n",
              "        vertical-align: top;\n",
              "    }\n",
              "\n",
              "    .dataframe thead th {\n",
              "        text-align: right;\n",
              "    }\n",
              "</style>\n",
              "<table border=\"1\" class=\"dataframe\">\n",
              "  <thead>\n",
              "    <tr style=\"text-align: right;\">\n",
              "      <th></th>\n",
              "      <th>data</th>\n",
              "      <th>texto</th>\n",
              "      <th>retweet</th>\n",
              "      <th>idioma</th>\n",
              "      <th>lugar</th>\n",
              "      <th>pais</th>\n",
              "      <th>sigla</th>\n",
              "      <th>latitude</th>\n",
              "      <th>longitude</th>\n",
              "    </tr>\n",
              "  </thead>\n",
              "  <tbody>\n",
              "    <tr>\n",
              "      <th>0</th>\n",
              "      <td>2020-05-23 00:21:14</td>\n",
              "      <td>Para voltar tudo ao normal, você precisa fazer...</td>\n",
              "      <td>0</td>\n",
              "      <td>pt</td>\n",
              "      <td>Rio das Ostras</td>\n",
              "      <td>Brazil</td>\n",
              "      <td>BR</td>\n",
              "      <td>-41.937900</td>\n",
              "      <td>-22.522600</td>\n",
              "    </tr>\n",
              "    <tr>\n",
              "      <th>1</th>\n",
              "      <td>2020-03-22 22:57:51</td>\n",
              "      <td>14.245 – O que é a hidroxicloroquina? https://...</td>\n",
              "      <td>0</td>\n",
              "      <td>pt</td>\n",
              "      <td>Sao Paulo</td>\n",
              "      <td>Brazil</td>\n",
              "      <td>BR</td>\n",
              "      <td>-46.674739</td>\n",
              "      <td>-23.606067</td>\n",
              "    </tr>\n",
              "    <tr>\n",
              "      <th>2</th>\n",
              "      <td>2020-04-14 00:11:33</td>\n",
              "      <td>Quarta morte em Lar de Estarreja associada à C...</td>\n",
              "      <td>1</td>\n",
              "      <td>pt</td>\n",
              "      <td>Lisbon</td>\n",
              "      <td>Portugal</td>\n",
              "      <td>PT</td>\n",
              "      <td>-9.099043</td>\n",
              "      <td>38.747518</td>\n",
              "    </tr>\n",
              "    <tr>\n",
              "      <th>3</th>\n",
              "      <td>2020-05-25 20:45:43</td>\n",
              "      <td>COVID-19 |  Hospital municipal Tide Setúbal, n...</td>\n",
              "      <td>0</td>\n",
              "      <td>pt</td>\n",
              "      <td>Sao Paulo</td>\n",
              "      <td>Brazil</td>\n",
              "      <td>BR</td>\n",
              "      <td>-46.633300</td>\n",
              "      <td>-23.550000</td>\n",
              "    </tr>\n",
              "    <tr>\n",
              "      <th>4</th>\n",
              "      <td>2020-04-15 10:34:39</td>\n",
              "      <td>#cenasdocotidiano #santos #distanciamentosocia...</td>\n",
              "      <td>0</td>\n",
              "      <td>pt</td>\n",
              "      <td>Santos</td>\n",
              "      <td>Brazil</td>\n",
              "      <td>BR</td>\n",
              "      <td>-46.293700</td>\n",
              "      <td>-23.975947</td>\n",
              "    </tr>\n",
              "  </tbody>\n",
              "</table>\n",
              "</div>"
            ],
            "text/plain": [
              "                  data  ...  longitude\n",
              "0  2020-05-23 00:21:14  ... -22.522600\n",
              "1  2020-03-22 22:57:51  ... -23.606067\n",
              "2  2020-04-14 00:11:33  ...  38.747518\n",
              "3  2020-05-25 20:45:43  ... -23.550000\n",
              "4  2020-04-15 10:34:39  ... -23.975947\n",
              "\n",
              "[5 rows x 9 columns]"
            ]
          },
          "metadata": {
            "tags": []
          },
          "execution_count": 17
        }
      ]
    },
    {
      "cell_type": "code",
      "metadata": {
        "id": "siTp8nK37Zhh",
        "colab_type": "code",
        "colab": {}
      },
      "source": [
        ""
      ],
      "execution_count": null,
      "outputs": []
    }
  ]
}